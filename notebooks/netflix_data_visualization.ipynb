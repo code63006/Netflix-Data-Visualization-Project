{
 "cells": [
  {
   "cell_type": "markdown",
   "id": "692a8e17",
   "metadata": {},
   "source": [
    "# Netflix Data Visualization"
   ]
  },
  {
   "cell_type": "markdown",
   "id": "97edd163",
   "metadata": {},
   "source": [
    "This notebook analyzes the Netflix dataset to uncover insights about the content available on the platform."
   ]
  },
  {
   "cell_type": "code",
   "execution_count": null,
   "id": "22b8de5f",
   "metadata": {},
   "outputs": [],
   "source": [
    "import pandas as pd\n",
    "import matplotlib.pyplot as plt\n",
    "import seaborn as sns\n",
    "import os"
   ]
  },
  {
   "cell_type": "markdown",
   "id": "95f06250",
   "metadata": {},
   "source": [
    "## Load the Dataset"
   ]
  },
  {
   "cell_type": "code",
   "execution_count": null,
   "id": "dce48220",
   "metadata": {},
   "outputs": [],
   "source": [
    "data_path = os.path.join(\"..\\data\", \"netflix_titles.csv\")\n",
    "if not os.path.exists(data_path):\n",
    "    print(f\"Error: Dataset not found at {data_path}\")\n",
    "    print(\"Please download the dataset from https://www.kaggle.com/datasets/shivamb/netflix-shows and place it in the 'data' directory.\")\n",
    "else:\n",
    "    df = pd.read_csv(data_path)\n",
    "    print(\"Dataset loaded successfully!\")"
   ]
  },
  {
   "cell_type": "markdown",
   "id": "f283b554",
   "metadata": {},
   "source": [
    "## Data Cleaning and Preprocessing"
   ]
  },
  {
   "cell_type": "code",
   "execution_count": null,
   "id": "591e796d",
   "metadata": {},
   "outputs": [],
   "source": [
    "df[\"date_added\"] = df[\"date_added\"].str.strip()\n",
    "df[\"date_added\"] = pd.to_datetime(df[\"date_added\"])\n",
    "df[\"year_added\"] = df[\"date_added\"].dt.year\n",
    "df[\"month_added\"] = df[\"date_added\"].dt.month"
   ]
  },
  {
   "cell_type": "markdown",
   "id": "873b0c84",
   "metadata": {},
   "source": [
    "## Analysis and Visualizations"
   ]
  },
  {
   "cell_type": "markdown",
   "id": "878de61f",
   "metadata": {},
   "source": [
    "### 1. Content Type Distribution"
   ]
  },
  {
   "cell_type": "code",
   "execution_count": null,
   "id": "e456ff6b",
   "metadata": {},
   "outputs": [],
   "source": [
    "plt.figure(figsize=(8, 6))\n",
    "sns.countplot(x='type', data=df, palette='pastel')\n",
    "plt.title('Distribution of Content Types')\n",
    "plt.xlabel('Type (Movie/TV Show)')\n",
    "plt.ylabel('Count')\n",
    "plt.show()"
   ]
  },
  {
   "cell_type": "markdown",
   "id": "82f2ccc1",
   "metadata": {},
   "source": [
    "### 2. Content Added Over the Years"
   ]
  },
  {
   "cell_type": "code",
   "execution_count": null,
   "id": "1eb92ca9",
   "metadata": {},
   "outputs": [],
   "source": [
    "plt.figure(figsize=(12, 6))\n",
    "df.groupby('year_added')['show_id'].count().plot(kind='line')\n",
    "plt.title('Content Added Over the Years')\n",
    "plt.xlabel('Year Added')\n",
    "plt.ylabel('Number of Titles Added')\n",
    "plt.show()"
   ]
  },
  {
   "cell_type": "markdown",
   "id": "f43afa9d",
   "metadata": {},
   "source": [
    "### 3. Top 10 Countries with Most Content"
   ]
  },
  {
   "cell_type": "code",
   "execution_count": null,
   "id": "3dcc3394",
   "metadata": {},
   "outputs": [],
   "source": [
    "plt.figure(figsize=(12, 6))\n",
    "top_countries = df[\"country\"]\n",
    "sns.barplot(x=top_countries.index, y=top_countries.values, palette='viridis')\n",
    "plt.title('Top 10 Countries with Most Content')\n",
    "plt.xlabel('Country')\n",
    "plt.ylabel('Number of Titles')\n",
    "plt.xticks(rotation=45, ha='right')\n",
    "plt.tight_layout()\n",
    "plt.show()"
   ]
  }
 ],
 "metadata": {
  "language_info": {
   "name": "python"
  }
 },
 "nbformat": 4,
 "nbformat_minor": 5
}
